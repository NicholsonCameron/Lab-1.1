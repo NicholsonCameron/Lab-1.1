{
 "cells": [
  {
   "cell_type": "markdown",
   "metadata": {
    "colab_type": "text",
    "id": "view-in-github"
   },
   "source": [
    "<a href=\"https://colab.research.google.com/github/NicholsonCameron/Lab-1.1/blob/main/comparing_league_wide_ERA.ipynb\" target=\"_parent\"><img src=\"https://colab.research.google.com/assets/colab-badge.svg\" alt=\"Open In Colab\"/></a>"
   ]
  },
  {
   "cell_type": "code",
   "execution_count": 64,
   "metadata": {
    "id": "5aWSeRm8FSR-"
   },
   "outputs": [],
   "source": [
    "import polars as pl"
   ]
  },
  {
   "cell_type": "code",
   "execution_count": 65,
   "metadata": {},
   "outputs": [
    {
     "data": {
      "text/html": [
       "<div><style>\n",
       ".dataframe > thead > tr,\n",
       ".dataframe > tbody > tr {\n",
       "  text-align: right;\n",
       "  white-space: pre-wrap;\n",
       "}\n",
       "</style>\n",
       "<small>shape: (5, 30)</small><table border=\"1\" class=\"dataframe\"><thead><tr><th>playerID</th><th>yearID</th><th>stint</th><th>teamID</th><th>lgID</th><th>W</th><th>L</th><th>G</th><th>GS</th><th>CG</th><th>SHO</th><th>SV</th><th>IPouts</th><th>H</th><th>ER</th><th>HR</th><th>BB</th><th>SO</th><th>BAOpp</th><th>ERA</th><th>IBB</th><th>WP</th><th>HBP</th><th>BK</th><th>BFP</th><th>GF</th><th>R</th><th>SH</th><th>SF</th><th>GIDP</th></tr><tr><td>str</td><td>i64</td><td>i64</td><td>str</td><td>str</td><td>i64</td><td>i64</td><td>i64</td><td>i64</td><td>i64</td><td>i64</td><td>i64</td><td>i64</td><td>i64</td><td>i64</td><td>i64</td><td>i64</td><td>i64</td><td>f64</td><td>f64</td><td>i64</td><td>i64</td><td>i64</td><td>i64</td><td>i64</td><td>i64</td><td>i64</td><td>i64</td><td>i64</td><td>i64</td></tr></thead><tbody><tr><td>&quot;aardsda01&quot;</td><td>2004</td><td>1</td><td>&quot;SFN&quot;</td><td>&quot;NL&quot;</td><td>1</td><td>0</td><td>11</td><td>0</td><td>0</td><td>0</td><td>0</td><td>32</td><td>20</td><td>8</td><td>1</td><td>10</td><td>5</td><td>0.417</td><td>6.75</td><td>0</td><td>0</td><td>2</td><td>0</td><td>61</td><td>5</td><td>8</td><td>0</td><td>1</td><td>1</td></tr><tr><td>&quot;aardsda01&quot;</td><td>2006</td><td>1</td><td>&quot;CHN&quot;</td><td>&quot;NL&quot;</td><td>3</td><td>0</td><td>45</td><td>0</td><td>0</td><td>0</td><td>0</td><td>159</td><td>41</td><td>24</td><td>9</td><td>28</td><td>49</td><td>0.214</td><td>4.08</td><td>0</td><td>1</td><td>1</td><td>0</td><td>225</td><td>9</td><td>25</td><td>1</td><td>3</td><td>2</td></tr><tr><td>&quot;aardsda01&quot;</td><td>2007</td><td>1</td><td>&quot;CHA&quot;</td><td>&quot;AL&quot;</td><td>2</td><td>1</td><td>25</td><td>0</td><td>0</td><td>0</td><td>0</td><td>97</td><td>39</td><td>23</td><td>4</td><td>17</td><td>36</td><td>0.3</td><td>6.4</td><td>3</td><td>2</td><td>1</td><td>0</td><td>151</td><td>7</td><td>24</td><td>2</td><td>1</td><td>1</td></tr><tr><td>&quot;aardsda01&quot;</td><td>2008</td><td>1</td><td>&quot;BOS&quot;</td><td>&quot;AL&quot;</td><td>4</td><td>2</td><td>47</td><td>0</td><td>0</td><td>0</td><td>0</td><td>146</td><td>49</td><td>30</td><td>4</td><td>35</td><td>49</td><td>0.268</td><td>5.55</td><td>2</td><td>3</td><td>5</td><td>0</td><td>228</td><td>7</td><td>32</td><td>3</td><td>2</td><td>4</td></tr><tr><td>&quot;aardsda01&quot;</td><td>2009</td><td>1</td><td>&quot;SEA&quot;</td><td>&quot;AL&quot;</td><td>3</td><td>6</td><td>73</td><td>0</td><td>0</td><td>0</td><td>38</td><td>214</td><td>49</td><td>20</td><td>4</td><td>34</td><td>80</td><td>0.19</td><td>2.52</td><td>3</td><td>2</td><td>0</td><td>0</td><td>296</td><td>53</td><td>23</td><td>2</td><td>1</td><td>2</td></tr></tbody></table></div>"
      ],
      "text/plain": [
       "shape: (5, 30)\n",
       "┌───────────┬────────┬───────┬────────┬───┬─────┬─────┬─────┬──────┐\n",
       "│ playerID  ┆ yearID ┆ stint ┆ teamID ┆ … ┆ R   ┆ SH  ┆ SF  ┆ GIDP │\n",
       "│ ---       ┆ ---    ┆ ---   ┆ ---    ┆   ┆ --- ┆ --- ┆ --- ┆ ---  │\n",
       "│ str       ┆ i64    ┆ i64   ┆ str    ┆   ┆ i64 ┆ i64 ┆ i64 ┆ i64  │\n",
       "╞═══════════╪════════╪═══════╪════════╪═══╪═════╪═════╪═════╪══════╡\n",
       "│ aardsda01 ┆ 2004   ┆ 1     ┆ SFN    ┆ … ┆ 8   ┆ 0   ┆ 1   ┆ 1    │\n",
       "│ aardsda01 ┆ 2006   ┆ 1     ┆ CHN    ┆ … ┆ 25  ┆ 1   ┆ 3   ┆ 2    │\n",
       "│ aardsda01 ┆ 2007   ┆ 1     ┆ CHA    ┆ … ┆ 24  ┆ 2   ┆ 1   ┆ 1    │\n",
       "│ aardsda01 ┆ 2008   ┆ 1     ┆ BOS    ┆ … ┆ 32  ┆ 3   ┆ 2   ┆ 4    │\n",
       "│ aardsda01 ┆ 2009   ┆ 1     ┆ SEA    ┆ … ┆ 23  ┆ 2   ┆ 1   ┆ 2    │\n",
       "└───────────┴────────┴───────┴────────┴───┴─────┴─────┴─────┴──────┘"
      ]
     },
     "execution_count": 65,
     "metadata": {},
     "output_type": "execute_result"
    }
   ],
   "source": [
    "pitching = pl.read_csv('./Data/lahman_1871-2023_csv/Pitching.csv')\n",
    "pitching.head()"
   ]
  },
  {
   "cell_type": "code",
   "execution_count": 111,
   "metadata": {},
   "outputs": [
    {
     "data": {
      "text/html": [
       "<div><style>\n",
       ".dataframe > thead > tr,\n",
       ".dataframe > tbody > tr {\n",
       "  text-align: right;\n",
       "  white-space: pre-wrap;\n",
       "}\n",
       "</style>\n",
       "<small>shape: (5, 6)</small><table border=\"1\" class=\"dataframe\"><thead><tr><th>yearID</th><th>lgID</th><th>total_outs</th><th>total_runs</th><th>era</th><th>DH_rule</th></tr><tr><td>i64</td><td>str</td><td>i64</td><td>i64</td><td>f64</td><td>str</td></tr></thead><tbody><tr><td>2020</td><td>&quot;NL&quot;</td><td>23068</td><td>4185</td><td>4.898344</td><td>&quot;No&quot;</td></tr><tr><td>2011</td><td>&quot;AL&quot;</td><td>60850</td><td>10036</td><td>4.453114</td><td>&quot;Yes&quot;</td></tr><tr><td>2014</td><td>&quot;AL&quot;</td><td>65396</td><td>10052</td><td>4.150162</td><td>&quot;Yes&quot;</td></tr><tr><td>2012</td><td>&quot;AL&quot;</td><td>60855</td><td>9980</td><td>4.427902</td><td>&quot;Yes&quot;</td></tr><tr><td>1992</td><td>&quot;NL&quot;</td><td>52502</td><td>7539</td><td>3.877052</td><td>&quot;No&quot;</td></tr></tbody></table></div>"
      ],
      "text/plain": [
       "shape: (5, 6)\n",
       "┌────────┬──────┬────────────┬────────────┬──────────┬─────────┐\n",
       "│ yearID ┆ lgID ┆ total_outs ┆ total_runs ┆ era      ┆ DH_rule │\n",
       "│ ---    ┆ ---  ┆ ---        ┆ ---        ┆ ---      ┆ ---     │\n",
       "│ i64    ┆ str  ┆ i64        ┆ i64        ┆ f64      ┆ str     │\n",
       "╞════════╪══════╪════════════╪════════════╪══════════╪═════════╡\n",
       "│ 2020   ┆ NL   ┆ 23068      ┆ 4185       ┆ 4.898344 ┆ No      │\n",
       "│ 2011   ┆ AL   ┆ 60850      ┆ 10036      ┆ 4.453114 ┆ Yes     │\n",
       "│ 2014   ┆ AL   ┆ 65396      ┆ 10052      ┆ 4.150162 ┆ Yes     │\n",
       "│ 2012   ┆ AL   ┆ 60855      ┆ 9980       ┆ 4.427902 ┆ Yes     │\n",
       "│ 1992   ┆ NL   ┆ 52502      ┆ 7539       ┆ 3.877052 ┆ No      │\n",
       "└────────┴──────┴────────────┴────────────┴──────────┴─────────┘"
      ]
     },
     "execution_count": 111,
     "metadata": {},
     "output_type": "execute_result"
    }
   ],
   "source": [
    "ERA = (pitching \n",
    "       .select([pl.col('IPouts'), pl.col('R'), pl.col('lgID'), pl.col('yearID')])\n",
    "       .filter(pl.col('yearID') >= 1946)\n",
    "       .group_by(pl.col('yearID'), pl.col('lgID'))\n",
    "       .agg([pl.col('IPouts').sum().alias('total_outs'),\n",
    "             pl.col('R').sum().alias('total_runs'),\n",
    "            ])\n",
    "       .with_columns(era = (pl.col('total_runs')/pl.col('total_outs')*27),\n",
    "                    DH_rule =  pl.when(pl.col('yearID') < 1973)\n",
    "                                 .then(pl.lit('No'))\n",
    "                                 .when(pl.col('lgID') == 'AL')\n",
    "                                 .then(pl.lit('Yes'))\n",
    "                                 .when(pl.col('yearID') > 2022)\n",
    "                                 .then(pl.lit('Yes'))\n",
    "                                 .when(pl.col('lgID') == 'NL')\n",
    "                                 .then(pl.lit('No'))\n",
    "                    )\n",
    "        )\n",
    "ERA.head()"
   ]
  },
  {
   "cell_type": "code",
   "execution_count": 108,
   "metadata": {},
   "outputs": [],
   "source": [
    "ERA.write_csv('./data/ERA.csv')"
   ]
  },
  {
   "cell_type": "code",
   "execution_count": 67,
   "metadata": {},
   "outputs": [
    {
     "data": {
      "text/html": [
       "<div><style>\n",
       ".dataframe > thead > tr,\n",
       ".dataframe > tbody > tr {\n",
       "  text-align: right;\n",
       "  white-space: pre-wrap;\n",
       "}\n",
       "</style>\n",
       "<small>shape: (5, 24)</small><table border=\"1\" class=\"dataframe\"><thead><tr><th>playerID</th><th>yearID</th><th>stint</th><th>teamID</th><th>lgID</th><th>G</th><th>G_batting</th><th>AB</th><th>R</th><th>H</th><th>2B</th><th>3B</th><th>HR</th><th>RBI</th><th>SB</th><th>CS</th><th>BB</th><th>SO</th><th>IBB</th><th>HBP</th><th>SH</th><th>SF</th><th>GIDP</th><th>G_old</th></tr><tr><td>str</td><td>i64</td><td>i64</td><td>str</td><td>str</td><td>i64</td><td>i64</td><td>i64</td><td>i64</td><td>i64</td><td>i64</td><td>i64</td><td>i64</td><td>i64</td><td>i64</td><td>i64</td><td>i64</td><td>i64</td><td>i64</td><td>i64</td><td>i64</td><td>i64</td><td>i64</td><td>str</td></tr></thead><tbody><tr><td>&quot;aardsda01&quot;</td><td>2004</td><td>1</td><td>&quot;SFN&quot;</td><td>&quot;NL&quot;</td><td>11</td><td>null</td><td>0</td><td>0</td><td>0</td><td>0</td><td>0</td><td>0</td><td>0</td><td>0</td><td>0</td><td>0</td><td>0</td><td>0</td><td>0</td><td>0</td><td>0</td><td>0</td><td>null</td></tr><tr><td>&quot;aardsda01&quot;</td><td>2006</td><td>1</td><td>&quot;CHN&quot;</td><td>&quot;NL&quot;</td><td>45</td><td>null</td><td>2</td><td>0</td><td>0</td><td>0</td><td>0</td><td>0</td><td>0</td><td>0</td><td>0</td><td>0</td><td>0</td><td>0</td><td>0</td><td>1</td><td>0</td><td>0</td><td>null</td></tr><tr><td>&quot;aardsda01&quot;</td><td>2007</td><td>1</td><td>&quot;CHA&quot;</td><td>&quot;AL&quot;</td><td>25</td><td>null</td><td>0</td><td>0</td><td>0</td><td>0</td><td>0</td><td>0</td><td>0</td><td>0</td><td>0</td><td>0</td><td>0</td><td>0</td><td>0</td><td>0</td><td>0</td><td>0</td><td>null</td></tr><tr><td>&quot;aardsda01&quot;</td><td>2008</td><td>1</td><td>&quot;BOS&quot;</td><td>&quot;AL&quot;</td><td>47</td><td>null</td><td>1</td><td>0</td><td>0</td><td>0</td><td>0</td><td>0</td><td>0</td><td>0</td><td>0</td><td>0</td><td>1</td><td>0</td><td>0</td><td>0</td><td>0</td><td>0</td><td>null</td></tr><tr><td>&quot;aardsda01&quot;</td><td>2009</td><td>1</td><td>&quot;SEA&quot;</td><td>&quot;AL&quot;</td><td>73</td><td>null</td><td>0</td><td>0</td><td>0</td><td>0</td><td>0</td><td>0</td><td>0</td><td>0</td><td>0</td><td>0</td><td>0</td><td>0</td><td>0</td><td>0</td><td>0</td><td>0</td><td>null</td></tr></tbody></table></div>"
      ],
      "text/plain": [
       "shape: (5, 24)\n",
       "┌───────────┬────────┬───────┬────────┬───┬─────┬─────┬──────┬───────┐\n",
       "│ playerID  ┆ yearID ┆ stint ┆ teamID ┆ … ┆ SH  ┆ SF  ┆ GIDP ┆ G_old │\n",
       "│ ---       ┆ ---    ┆ ---   ┆ ---    ┆   ┆ --- ┆ --- ┆ ---  ┆ ---   │\n",
       "│ str       ┆ i64    ┆ i64   ┆ str    ┆   ┆ i64 ┆ i64 ┆ i64  ┆ str   │\n",
       "╞═══════════╪════════╪═══════╪════════╪═══╪═════╪═════╪══════╪═══════╡\n",
       "│ aardsda01 ┆ 2004   ┆ 1     ┆ SFN    ┆ … ┆ 0   ┆ 0   ┆ 0    ┆ null  │\n",
       "│ aardsda01 ┆ 2006   ┆ 1     ┆ CHN    ┆ … ┆ 1   ┆ 0   ┆ 0    ┆ null  │\n",
       "│ aardsda01 ┆ 2007   ┆ 1     ┆ CHA    ┆ … ┆ 0   ┆ 0   ┆ 0    ┆ null  │\n",
       "│ aardsda01 ┆ 2008   ┆ 1     ┆ BOS    ┆ … ┆ 0   ┆ 0   ┆ 0    ┆ null  │\n",
       "│ aardsda01 ┆ 2009   ┆ 1     ┆ SEA    ┆ … ┆ 0   ┆ 0   ┆ 0    ┆ null  │\n",
       "└───────────┴────────┴───────┴────────┴───┴─────┴─────┴──────┴───────┘"
      ]
     },
     "execution_count": 67,
     "metadata": {},
     "output_type": "execute_result"
    }
   ],
   "source": [
    "batting = pl.read_csv('./Data/lahman_1871-2023_csv/Batting.csv')\n",
    "batting.head()"
   ]
  },
  {
   "cell_type": "code",
   "execution_count": 109,
   "metadata": {},
   "outputs": [
    {
     "data": {
      "text/html": [
       "<div><style>\n",
       ".dataframe > thead > tr,\n",
       ".dataframe > tbody > tr {\n",
       "  text-align: right;\n",
       "  white-space: pre-wrap;\n",
       "}\n",
       "</style>\n",
       "<small>shape: (5, 9)</small><table border=\"1\" class=\"dataframe\"><thead><tr><th>yearID</th><th>lgID</th><th>total_BB</th><th>total_2B</th><th>total_3B</th><th>total_HR</th><th>total_AB</th><th>slg</th><th>DH_rule</th></tr><tr><td>i64</td><td>str</td><td>i64</td><td>i64</td><td>i64</td><td>i64</td><td>i64</td><td>f64</td><td>str</td></tr></thead><tbody><tr><td>1946</td><td>&quot;NL&quot;</td><td>4400</td><td>1752</td><td>382</td><td>562</td><td>42094</td><td>0.268399</td><td>&quot;No&quot;</td></tr><tr><td>2020</td><td>&quot;NL&quot;</td><td>3078</td><td>1402</td><td>126</td><td>1161</td><td>29399</td><td>0.370897</td><td>&quot;No&quot;</td></tr><tr><td>2006</td><td>&quot;NL&quot;</td><td>8600</td><td>4834</td><td>561</td><td>2840</td><td>88844</td><td>0.352427</td><td>&quot;No&quot;</td></tr><tr><td>1979</td><td>&quot;AL&quot;</td><td>7413</td><td>3529</td><td>548</td><td>2006</td><td>76704</td><td>0.314703</td><td>&quot;Yes&quot;</td></tr><tr><td>2007</td><td>&quot;AL&quot;</td><td>7503</td><td>4299</td><td>433</td><td>2252</td><td>78294</td><td>0.337293</td><td>&quot;Yes&quot;</td></tr></tbody></table></div>"
      ],
      "text/plain": [
       "shape: (5, 9)\n",
       "┌────────┬──────┬──────────┬──────────┬───┬──────────┬──────────┬──────────┬─────────┐\n",
       "│ yearID ┆ lgID ┆ total_BB ┆ total_2B ┆ … ┆ total_HR ┆ total_AB ┆ slg      ┆ DH_rule │\n",
       "│ ---    ┆ ---  ┆ ---      ┆ ---      ┆   ┆ ---      ┆ ---      ┆ ---      ┆ ---     │\n",
       "│ i64    ┆ str  ┆ i64      ┆ i64      ┆   ┆ i64      ┆ i64      ┆ f64      ┆ str     │\n",
       "╞════════╪══════╪══════════╪══════════╪═══╪══════════╪══════════╪══════════╪═════════╡\n",
       "│ 1946   ┆ NL   ┆ 4400     ┆ 1752     ┆ … ┆ 562      ┆ 42094    ┆ 0.268399 ┆ No      │\n",
       "│ 2020   ┆ NL   ┆ 3078     ┆ 1402     ┆ … ┆ 1161     ┆ 29399    ┆ 0.370897 ┆ No      │\n",
       "│ 2006   ┆ NL   ┆ 8600     ┆ 4834     ┆ … ┆ 2840     ┆ 88844    ┆ 0.352427 ┆ No      │\n",
       "│ 1979   ┆ AL   ┆ 7413     ┆ 3529     ┆ … ┆ 2006     ┆ 76704    ┆ 0.314703 ┆ Yes     │\n",
       "│ 2007   ┆ AL   ┆ 7503     ┆ 4299     ┆ … ┆ 2252     ┆ 78294    ┆ 0.337293 ┆ Yes     │\n",
       "└────────┴──────┴──────────┴──────────┴───┴──────────┴──────────┴──────────┴─────────┘"
      ]
     },
     "execution_count": 109,
     "metadata": {},
     "output_type": "execute_result"
    }
   ],
   "source": [
    "SLG = (batting\n",
    "       .select([pl.col('BB'), pl.col('2B'), pl.col('3B'), pl.col('HR'), \n",
    "                pl.col('AB'), pl.col('yearID'), pl.col('lgID')])\n",
    "       .filter(pl.col('yearID') >= 1946)\n",
    "       .group_by(pl.col('yearID'), pl.col('lgID'))\n",
    "       .agg([pl.col('BB').sum().alias('total_BB'),\n",
    "             pl.col('2B').sum().alias('total_2B'),\n",
    "             pl.col('3B').sum().alias('total_3B'),\n",
    "             pl.col('HR').sum().alias('total_HR'),\n",
    "             pl.col('AB').sum().alias('total_AB'),\n",
    "            ])\n",
    "       .with_columns(slg = (pl.col('total_BB') + (2 * pl.col('total_2B')) + \n",
    "                            (3 * pl.col('total_3B')) + (4 * pl.col('total_HR')))/pl.col('total_AB'),\n",
    "                    DH_rule =  pl.when(pl.col('yearID') < 1973)\n",
    "                                 .then(pl.lit('No'))\n",
    "                                 .when(pl.col('lgID') == 'AL')\n",
    "                                 .then(pl.lit('Yes'))\n",
    "                                 .when(pl.col('yearID') > 2022)\n",
    "                                 .then(pl.lit('Yes'))\n",
    "                                 .when(pl.col('lgID') == 'NL')\n",
    "                                 .then(pl.lit('No'))\n",
    "                    )\n",
    "      )\n",
    "SLG.head()"
   ]
  },
  {
   "cell_type": "code",
   "execution_count": 110,
   "metadata": {},
   "outputs": [],
   "source": [
    "SLG.write_csv('./data/SLG.csv')"
   ]
  },
  {
   "cell_type": "code",
   "execution_count": null,
   "metadata": {},
   "outputs": [],
   "source": []
  }
 ],
 "metadata": {
  "colab": {
   "authorship_tag": "ABX9TyPkZokFdvfimKzNWN8fwAYf",
   "include_colab_link": true,
   "provenance": []
  },
  "kernelspec": {
   "display_name": "Python 3 (ipykernel)",
   "language": "python",
   "name": "python3"
  },
  "language_info": {
   "codemirror_mode": {
    "name": "ipython",
    "version": 3
   },
   "file_extension": ".py",
   "mimetype": "text/x-python",
   "name": "python",
   "nbconvert_exporter": "python",
   "pygments_lexer": "ipython3",
   "version": "3.12.5"
  }
 },
 "nbformat": 4,
 "nbformat_minor": 4
}
